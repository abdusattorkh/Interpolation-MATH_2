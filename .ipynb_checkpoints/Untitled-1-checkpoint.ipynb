{
 "cells": [
  {
   "cell_type": "code",
   "execution_count": null,
   "metadata": {},
   "outputs": [],
   "source": [
    "from test import *\n",
    "def test():\n",
    "    xy_intervall = [0,1] ##CHANGABLE INTERVALL\n",
    "    amount_dtp=30 ##CHANGABLE DTP AMOUNT\n",
    "    x = np.linspace(xy_intervall[0],xy_intervall[1],amount_dtp)\n",
    "    #x= np.empty(amount_dtp,dtype=float) ##CHANGABLE DATATYPE\n",
    "\n",
    "    y = np.empty(amount_dtp,dtype=float) ##CHANGABLE DATATYPE\n",
    "    for i,ele in enumerate(x):\n",
    "        y[i]=math.cos(ele*math.pi/2) ##CHANGABLE FUNCTION\n",
    "    print(y.size,x.size)\n",
    "    main(x,y)\n",
    "test()"
   ]
  }
 ],
 "metadata": {
  "kernelspec": {
   "display_name": "Python 3 (ipykernel)",
   "language": "python",
   "name": "python3"
  },
  "language_info": {
   "codemirror_mode": {
    "name": "ipython",
    "version": 3
   },
   "file_extension": ".py",
   "mimetype": "text/x-python",
   "name": "python",
   "nbconvert_exporter": "python",
   "pygments_lexer": "ipython3",
   "version": "3.11.2"
  },
  "vscode": {
   "interpreter": {
    "hash": "aee8b7b246df8f9039afb4144a1f6fd8d2ca17a180786b69acc140d282b71a49"
   }
  }
 },
 "nbformat": 4,
 "nbformat_minor": 2
}
